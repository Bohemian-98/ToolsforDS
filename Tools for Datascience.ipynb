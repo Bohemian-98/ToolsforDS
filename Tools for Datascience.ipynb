{
 "cells": [
  {
   "cell_type": "markdown",
   "id": "dca70ab5",
   "metadata": {},
   "source": [
    "# Data Science Tools and Ecosystem"
   ]
  },
  {
   "cell_type": "markdown",
   "id": "c6e3822a",
   "metadata": {},
   "source": [
    "In this notebook, Data Science Tools and Ecosystem are summarized."
   ]
  },
  {
   "cell_type": "markdown",
   "id": "b6feb36b",
   "metadata": {},
   "source": [
    "# Some of the popular languages that Data Scientists use are:\n",
    "1.Python\n",
    "2.R \n",
    "3.SQL\n"
   ]
  },
  {
   "cell_type": "raw",
   "id": "0e78fa2b",
   "metadata": {},
   "source": [
    "Some of the commonly used libraries used by Data Scientists include:\n",
    "1.numpy\n",
    "2.panda\n",
    "3.matploylib\n",
    "4.seaborn"
   ]
  },
  {
   "cell_type": "markdown",
   "id": "f3541c93",
   "metadata": {},
   "source": [
    "|    Data Science Tools   |\n",
    "|------------------------ |  \n",
    "|    Jupyter notebook     |\n",
    "|     R studio            |\n",
    "|     github              |\n",
    "|                         |"
   ]
  },
  {
   "cell_type": "markdown",
   "id": "16e98607",
   "metadata": {},
   "source": [
    "###Below are a few examples of evaluating arithmetic expressions in Python\n",
    "x+y\n",
    "x-y\n",
    "X*Y\n",
    "X/Y"
   ]
  },
  {
   "cell_type": "code",
   "execution_count": 3,
   "id": "335ff1f0",
   "metadata": {},
   "outputs": [
    {
     "data": {
      "text/plain": [
       "17"
      ]
     },
     "execution_count": 3,
     "metadata": {},
     "output_type": "execute_result"
    }
   ],
   "source": [
    "(3*4)+5\n",
    "#This a simple arithmetic expression to mutiply then add integers"
   ]
  },
  {
   "cell_type": "code",
   "execution_count": 4,
   "id": "e0e8dca3",
   "metadata": {},
   "outputs": [
    {
     "data": {
      "text/plain": [
       "3.3333333333333335"
      ]
     },
     "execution_count": 4,
     "metadata": {},
     "output_type": "execute_result"
    }
   ],
   "source": [
    "200/60\n",
    "#This will convert 200 minutes to hours by diving by 60"
   ]
  },
  {
   "cell_type": "markdown",
   "id": "3a7718db",
   "metadata": {},
   "source": [
    "**Objectives:**\n",
    "List popular languages for Data Science\n",
    "+ Python\n",
    "+ R \n",
    "+ SQL\n"
   ]
  },
  {
   "cell_type": "markdown",
   "id": "f039db1d",
   "metadata": {},
   "source": [
    "## Author\n",
    "Pritam Bhowmik"
   ]
  },
  {
   "cell_type": "code",
   "execution_count": null,
   "id": "623e5db4",
   "metadata": {},
   "outputs": [],
   "source": []
  }
 ],
 "metadata": {
  "kernelspec": {
   "display_name": "Python 3 (ipykernel)",
   "language": "python",
   "name": "python3"
  },
  "language_info": {
   "codemirror_mode": {
    "name": "ipython",
    "version": 3
   },
   "file_extension": ".py",
   "mimetype": "text/x-python",
   "name": "python",
   "nbconvert_exporter": "python",
   "pygments_lexer": "ipython3",
   "version": "3.9.13"
  }
 },
 "nbformat": 4,
 "nbformat_minor": 5
}
